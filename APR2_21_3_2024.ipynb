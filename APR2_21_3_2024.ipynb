{
  "nbformat": 4,
  "nbformat_minor": 0,
  "metadata": {
    "colab": {
      "provenance": [],
      "authorship_tag": "ABX9TyMhHUjgHxxrpIzGy42/WIky",
      "include_colab_link": true
    },
    "kernelspec": {
      "name": "python3",
      "display_name": "Python 3"
    },
    "language_info": {
      "name": "python"
    }
  },
  "cells": [
    {
      "cell_type": "markdown",
      "metadata": {
        "id": "view-in-github",
        "colab_type": "text"
      },
      "source": [
        "<a href=\"https://colab.research.google.com/github/skvaraj2/UJEP/blob/main/APR2_21_3_2024.ipynb\" target=\"_parent\"><img src=\"https://colab.research.google.com/assets/colab-badge.svg\" alt=\"Open In Colab\"/></a>"
      ]
    },
    {
      "cell_type": "markdown",
      "source": [
        "## Hanojské věže\n",
        "\n",
        "trojice zásobníků\n",
        "\n",
        "- umožnuje odebírat poslední vložený prvek\n",
        "\n",
        "### zásobníky\n",
        "\n",
        " - soustava vzájmně spojených uzlů\n",
        " - začínají hlavičkou -> první uzel v pořadí\n",
        " - dvě záklaní operace -> push a pull"
      ],
      "metadata": {
        "id": "QKMMA2v-1L1f"
      }
    },
    {
      "cell_type": "code",
      "source": [
        "class Uzel:\n",
        "  # hodnota\n",
        "  # je_hlavičkou # přednastavena hodnota True\n",
        "  # další_prvek\n",
        "  def __init__(self,hodnota,je_hlavickou=True) -> None:\n",
        "    self.hodnota=hodnota\n",
        "    self.je_hlavickou=je_hlavickou\n",
        "    self.dalsi_prvek=None\n",
        "\n",
        "\n",
        "class Zasobnik:\n",
        "  #vlasnotsti:\n",
        "  #-> hlavicka\n",
        "  #-> pocet_hodnot\n",
        "  def __init__(self) -> None:\n",
        "    self.hlavicka=None\n",
        "    self.pocet_hodnot=0\n",
        "\n",
        "  #metody:\n",
        "  #->nabij - pridej hodnotu jako novou hlavičku\n",
        "  def nabij(self,hodnota):\n",
        "    \"\"\"pro hodnotu vytvoř nový uzel,\n",
        "       aktualní hlavičku zasobniku nastav na je_hlavičkou=False\n",
        "       aktualní hlavičku zasobniku nastav jako další prvek nového uzlu\n",
        "       novy uzel nastav jako hlavičku zasobniku\n",
        "       zvětši počet hodnot o 1\n",
        "    \"\"\"\n",
        "    uzel=Uzel(hodnota)\n",
        "    if self.hlavicka is None: # pokud je zatím zásobník prázdný\n",
        "      self.hlavicka=uzel\n",
        "      self.pocet_hodnot+=1\n",
        "    else:\n",
        "      self.hlavicka.je_hlavickou=False\n",
        "      uzel.dalsi_prvek=self.hlavicka\n",
        "      self.hlavicka=uzel\n",
        "      self.pocet_hodnot+=1\n",
        "\n",
        "  #->vybij - odeber hlavičku a vrať hodnotu\n",
        "  def vybij(self):\n",
        "    \"\"\"do nové promenne hodnota, ulož hodnotu z aktuální hlavičky zásobníku\n",
        "       aktuální hlavičku zásobníku přepiš jejím násladujícím prvkem\n",
        "       nově nastevené hlavičce změň vlastnost je_hlavičkou na True\n",
        "       zmenši počet hodnot o 1\n",
        "    \"\"\"\n",
        "    if self.hlavicka is None:\n",
        "      raise Exception(\"Nelze odebírat z prázdného zásobníku\")\n",
        "    hodnota = self.hlavicka.hodnota\n",
        "    self.hlavicka.je_hlavickou=False\n",
        "    self.hlavicka=self.hlavicka.dalsi_prvek\n",
        "    if self.hlavicka is not None:\n",
        "      self.hlavicka.je_hlavickou=True\n",
        "    self.pocet_hodnot-=1\n",
        "    return hodnota\n",
        "\n",
        "  def __repr__(self) -> str:\n",
        "    if self.hlavicka is None:\n",
        "      return \"Empty\"\n",
        "    text = \"[\" #výsledný text\n",
        "    uzel = self.hlavicka\n",
        "    text += f\"{uzel.hodnota} \"\n",
        "\n",
        "    for i in range(self.pocet_hodnot-1):\n",
        "      uzel=uzel.dalsi_prvek\n",
        "      text += f\"{uzel.hodnota} \"\n",
        "\n",
        "    text += \"]\"\n",
        "\n",
        "    # procházet přes zbylé hodnoty zásobníku\n",
        "    # vezmeme následující prvek a uložíme do uzlu\n",
        "    # jeho hodnotu přidáme do proměnné text\n",
        "\n",
        "    return text\n",
        "\n",
        "  def __iter__(self): # nastavuje výchozí bod iterací\n",
        "    self.aktualni = self.hlavicka # výchozí pozice\n",
        "    return self  # iter musí vracet self - upravenou verzi objektu\n",
        "\n",
        "  def __next__(self): # posune iterátor na další hodnotu v kolekci, vrací aktuální hodnotu\n",
        "    if self.aktualni is not None: # pokud jsme se neposunnuly za poslední hodnotu\n",
        "      hodnota=self.aktualni.hodnota # vytáhneme hodnotu\n",
        "      self.aktualni=self.aktualni.dalsi_prvek # posuneme se na další\n",
        "      return hodnota #vrátíme hodnotu iterace\n",
        "    else:\n",
        "      raise StopIteration #výjimka - > dostali jsme se za poslední hodnotu v zásobníku."
      ],
      "metadata": {
        "id": "tXi9E3ju4UCk"
      },
      "execution_count": null,
      "outputs": []
    },
    {
      "cell_type": "code",
      "source": [
        "zasobnik1=Zasobnik()\n",
        "zasobnik1.nabij(5)\n",
        "zasobnik1.nabij(10)\n",
        "zasobnik1.nabij(15)\n",
        "print(zasobnik1)\n",
        "\n",
        "for hodnota in zasobnik1:\n",
        "  print(hodnota)"
      ],
      "metadata": {
        "colab": {
          "base_uri": "https://localhost:8080/"
        },
        "id": "T6h9c2hcqv7w",
        "outputId": "fae6122c-4167-4553-a857-37bf0b708648"
      },
      "execution_count": null,
      "outputs": [
        {
          "output_type": "stream",
          "name": "stdout",
          "text": [
            "[15 10 5 ]\n",
            "15\n",
            "10\n",
            "5\n"
          ]
        }
      ]
    },
    {
      "cell_type": "markdown",
      "source": [
        "### Hanojské věže\n",
        "\n",
        "- vlastnosti:\n",
        "-- parametr: počet kotoučků\n",
        "-- tři zásobníky: levý, pravý, prostřední\n",
        "během inicializace levý zásobník naplněn hodnotami 1-počet kotoučků a nejmenší hodnota je navrchu\n",
        "\n",
        "- metody:\n",
        "-- přesun_kotoucek_z_na(zasobnik1, zasobnik2) # parametr bude text (např. \"levý\",\"pravý\"). Nutné ošetřit prázdný zásobník(Vyhodit výjimku)\n",
        "   **kontrola pravidel** - > vždy je možné jen posunou malý kotouček na větší.\n",
        "-- vizualizuj_veze (vypíše tři zásobníky pod sebe pro kontrolu)\n",
        "-- spust_hlavolam -> cyklus pro intrakci s uživatelem - dokud není vyřešen hlavolam (dokud pravý zásobník neobsahuje všechny kotoučky)\n"
      ],
      "metadata": {
        "id": "zJjusOWJ5D-A"
      }
    },
    {
      "cell_type": "code",
      "source": [
        "class Veze:\n",
        "  def __init__(self,pocet_kotoucu):\n",
        "    self.pocet_kotoucu=pocet_kotoucu\n",
        "    self.slovnik={\"levý\":Zasobnik(),\"střed\":Zasobnik(),\"pravý\":Zasobnik()}\n",
        "\n",
        "    for i in range(self.pocet_kotoucu,0,-1):\n",
        "      self.slovnik[\"levý\"].nabij(i)\n",
        "\n",
        "  def vizualizace(self):\n",
        "    print(\"levý:\\t\",self.slovnik[\"levý\"])\n",
        "    print(\"střed:\\t\",self.slovnik[\"střed\"])\n",
        "    print(\"pravý:\\t\",self.slovnik[\"pravý\"])\n",
        "\n",
        "\n",
        "  def presun_z_na(self, odkud, kam):\n",
        "    if odkud not in self.slovnik or kam not in self.slovnik:\n",
        "      print(\"neplatný příkaz\")\n",
        "      return\n",
        "    elif self.slovnik[odkud].hlavicka is None:\n",
        "      print(\"neplatný příkaz\")\n",
        "      return\n",
        "    else:\n",
        "      if (self.slovnik[kam].hlavicka is None or\n",
        "      self.slovnik[odkud].hlavicka.hodnota < self.slovnik[kam].hlavicka.hodnota):\n",
        "        hodnota=self.slovnik[odkud].vybij()\n",
        "        self.slovnik[kam].nabij(hodnota)\n",
        "\n",
        "\n",
        "  def je_vyreseno(self):\n",
        "    if self.slovnik[\"pravý\"].pocet_hodnot != self.pocet_kotoucu:\n",
        "      return False\n",
        "    return True\n",
        "\n",
        "\n",
        "  def spust_hlavolam(self):\n",
        "    while not self.je_vyreseno():\n",
        "      self.vizualizace()\n",
        "      odkud=input(\"Z jaké věže přesunout? (levý, střed, pravý) \")\n",
        "      kam=input(\"Na jakou věž? (levý, střed, pravý) \")\n",
        "      self.presun_z_na(odkud,kam)\n",
        "      print(\"\")\n",
        "\n",
        "\n",
        "veze=Veze(7)\n",
        "veze.spust_hlavolam()"
      ],
      "metadata": {
        "id": "prNbK9-Q5BrY"
      },
      "execution_count": null,
      "outputs": []
    },
    {
      "cell_type": "code",
      "source": [
        "# return vs yield\n",
        "\n",
        "def zbytecna_funkce(x):\n",
        "  return x+1, x+2, x+3 # return ukončuje tělo funkce\n",
        "\n",
        "zbytecna_funkce(5)\n",
        "\n",
        "def zbytecna_funkce2(x):\n",
        "  yield x+1\n",
        "  yield x+2\n",
        "  yield x+3\n",
        "\n",
        "zbytecna_funkce(5)\n",
        "\n",
        "print(zbytecna_funkce2(5))\n",
        "\n",
        "for hodnota in zbytecna_funkce2(5):\n",
        "  print(hodnota)"
      ],
      "metadata": {
        "id": "AUnxhkPDxL-2"
      },
      "execution_count": null,
      "outputs": []
    },
    {
      "cell_type": "code",
      "source": [
        "def rozsah(od, do, krok):\n",
        "  \"\"\"vlastní implementace generátoru range\"\"\"\n",
        "  while od < do:\n",
        "    yield od\n",
        "    od+=krok\n",
        "\n",
        "for hodnota in rozsah(1,10,1):\n",
        "  print(hodnota)"
      ],
      "metadata": {
        "id": "ZypkJtrSz3os"
      },
      "execution_count": null,
      "outputs": []
    },
    {
      "cell_type": "code",
      "source": [
        "generator=rozsah(1,10,1)\n",
        "next(generator)\n",
        "next(generator)"
      ],
      "metadata": {
        "colab": {
          "base_uri": "https://localhost:8080/"
        },
        "id": "mG0e8DAh3QY4",
        "outputId": "2bd7d494-81f6-485a-aa9e-c3c1a94df856"
      },
      "execution_count": null,
      "outputs": [
        {
          "output_type": "execute_result",
          "data": {
            "text/plain": [
              "2"
            ]
          },
          "metadata": {},
          "execution_count": 21
        }
      ]
    },
    {
      "cell_type": "code",
      "source": [
        "def generator_rand(nasada):\n",
        "  a=65539\n",
        "  c=0\n",
        "  m=2e31\n",
        "  for i in range(int(m)):\n",
        "    nasada=(a*nasada+c)%m\n",
        "    yield nasada\n",
        "\n",
        "gr=generator_rand(1)\n",
        "next(gr)\n",
        "next(gr)\n",
        "next(gr)\n",
        "next(gr)"
      ],
      "metadata": {
        "colab": {
          "base_uri": "https://localhost:8080/"
        },
        "id": "5XtUkVbX487u",
        "outputId": "ca03524c-ca8d-43b3-cf2f-4582b2bb0555"
      },
      "execution_count": null,
      "outputs": [
        {
          "output_type": "execute_result",
          "data": {
            "text/plain": [
              "1.845012200536539e+19"
            ]
          },
          "metadata": {},
          "execution_count": 26
        }
      ]
    },
    {
      "cell_type": "code",
      "source": [
        "# merge sort\n",
        "\n",
        "# rekurzivní algoritmus\n",
        "\n",
        "#1) postupně dělíme zadaný seznam v polovině\n",
        "#2) když dojdeme na nejnižší úroveň budeme vše skládat zpět dohromady, ale kontrolujeme pořadí\n",
        "\n",
        "\n",
        "def merge_sort(seznam):\n",
        "  if len(seznam) <=1:\n",
        "    return seznam\n",
        "  stred=int(len(seznam)/2)\n",
        "  levy=merge_sort(seznam[:stred])\n",
        "  pravy=merge_sort(seznam[stred:])\n",
        "  return merge(levy,pravy)\n",
        "\n",
        "def merge(levy,pravy):\n",
        "  vysledek=[]\n",
        "  i,j =0,0\n",
        "  while i < len(levy) and j < len(pravy):\n",
        "    if levy[i]<pravy[j]:\n",
        "      vysledek.append(levy[i])\n",
        "      i+=1\n",
        "    else:\n",
        "      vysledek.append(pravy[j])\n",
        "      j+=1\n",
        "  vysledek.extend(levy[i:])\n",
        "  vysledek.extend(pravy[j:])\n",
        "  return vysledek\n",
        "\n",
        "seznam=[2,4,3,0,5,7,10]\n",
        "merge_sort(seznam)"
      ],
      "metadata": {
        "colab": {
          "base_uri": "https://localhost:8080/"
        },
        "id": "w0m5kyF56ENO",
        "outputId": "5d5a2bd3-07ea-4b2e-97b9-ba5edaa57bad"
      },
      "execution_count": null,
      "outputs": [
        {
          "output_type": "execute_result",
          "data": {
            "text/plain": [
              "[0, 2, 3, 4, 5, 7, 10]"
            ]
          },
          "metadata": {},
          "execution_count": 27
        }
      ]
    },
    {
      "cell_type": "code",
      "source": [
        "def not_so_realy_quick_sort(seznam):\n",
        "  if len(seznam)<=1:\n",
        "    return seznam\n",
        "  pivot=seznam[-1]\n",
        "  levy= [x for x in seznam if x < pivot]\n",
        "  pravy= [x for x in seznam if x > pivot]\n",
        "  levy=not_so_realy_quick_sort(levy)\n",
        "  pravy=not_so_realy_quick_sort(pravy)\n",
        "  return merge(levy,[pivot],pravy)\n",
        "\n",
        "def merge(levy,pivot,pravy):\n",
        "  levy.extend(pivot)\n",
        "  levy.extend(pravy)\n",
        "  return levy\n",
        "\n",
        "seznam=[2,4,3,0,5,7,10]\n",
        "not_so_realy_quick_sort(seznam)"
      ],
      "metadata": {
        "colab": {
          "base_uri": "https://localhost:8080/"
        },
        "id": "o2gkulAIC6OE",
        "outputId": "a08df405-c2ca-4ee1-fc22-4a44ea499463"
      },
      "execution_count": null,
      "outputs": [
        {
          "output_type": "execute_result",
          "data": {
            "text/plain": [
              "[0, 2, 3, 4, 5, 7, 10]"
            ]
          },
          "metadata": {},
          "execution_count": 30
        }
      ]
    }
  ]
}